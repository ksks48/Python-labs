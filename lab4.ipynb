{
 "cells": [
  {
   "cell_type": "code",
   "execution_count": 1,
   "id": "9f917d91",
   "metadata": {},
   "outputs": [
    {
     "data": {
      "text/plain": [
       "1"
      ]
     },
     "execution_count": 1,
     "metadata": {},
     "output_type": "execute_result"
    }
   ],
   "source": [
    "N = ord('K') % 15 + 1\n",
    "N"
   ]
  },
  {
   "cell_type": "markdown",
   "id": "06561a2d",
   "metadata": {},
   "source": [
    "# Вправа 1. Вводиться число n. Вивести масив разміра nхn, в якому по діагоналі йдуть числа від 1 до n, а інші числа рівні 0"
   ]
  },
  {
   "cell_type": "code",
   "execution_count": 2,
   "id": "0603a171",
   "metadata": {},
   "outputs": [
    {
     "name": "stdout",
     "output_type": "stream",
     "text": [
      "4\n",
      "1 0 0 0 \n",
      "0 2 0 0 \n",
      "0 0 3 0 \n",
      "0 0 0 4 \n",
      "CPU times: total: 46.9 ms\n",
      "Wall time: 1.51 s\n"
     ]
    }
   ],
   "source": [
    "%%time\n",
    "n = int(input())\n",
    "matrix = [[0 for j in range(n)] for i in range(n)]\n",
    "\n",
    "for i in range(n):\n",
    "    matrix[i][i] = i + 1\n",
    "\n",
    "for row in matrix:\n",
    "    for element in row:\n",
    "        print(element, end=\" \")\n",
    "    print()"
   ]
  },
  {
   "cell_type": "code",
   "execution_count": 3,
   "id": "a8e4ed6e",
   "metadata": {},
   "outputs": [
    {
     "name": "stdout",
     "output_type": "stream",
     "text": [
      "4\n",
      "CPU times: total: 156 ms\n",
      "Wall time: 1.45 s\n"
     ]
    },
    {
     "data": {
      "text/plain": [
       "array([[1, 0, 0, 0],\n",
       "       [0, 2, 0, 0],\n",
       "       [0, 0, 3, 0],\n",
       "       [0, 0, 0, 4]])"
      ]
     },
     "execution_count": 3,
     "metadata": {},
     "output_type": "execute_result"
    }
   ],
   "source": [
    "%%time\n",
    "import numpy as np\n",
    "\n",
    "n = int(input())\n",
    "a1 = np.zeros((n, n), dtype=int)\n",
    "\n",
    "for i in range(n):\n",
    "    a1[i, i] = i+1\n",
    "a1"
   ]
  },
  {
   "cell_type": "markdown",
   "id": "53f0ea91",
   "metadata": {},
   "source": [
    "# Вправа 6. З клавіатури вводиться масив. Замінити всі ненульові елементи на -1."
   ]
  },
  {
   "cell_type": "code",
   "execution_count": 4,
   "id": "6a9d9e48",
   "metadata": {},
   "outputs": [
    {
     "name": "stdout",
     "output_type": "stream",
     "text": [
      "5\n",
      "1 element: 1\n",
      "2 element: 2\n",
      "3 element: 3\n",
      "4 element: 4\n",
      "5 element: 0\n",
      "[1, 2, 3, 4, 0]\n",
      "CPU times: total: 46.9 ms\n",
      "Wall time: 8.36 s\n"
     ]
    },
    {
     "data": {
      "text/plain": [
       "[-1, -1, -1, -1, 0]"
      ]
     },
     "execution_count": 4,
     "metadata": {},
     "output_type": "execute_result"
    }
   ],
   "source": [
    "%%time\n",
    "n = int(input())\n",
    "task_6 = []\n",
    "\n",
    "for i in range(n):\n",
    "    element = int(input(f\"{i+1} element: \"))\n",
    "    task_6.append(element)\n",
    "print(task_6)\n",
    "\n",
    "for i in range(n):\n",
    "    if task_6[i] != 0:\n",
    "        task_6[i] = -1\n",
    "task_6"
   ]
  },
  {
   "cell_type": "code",
   "execution_count": 5,
   "id": "e760590b",
   "metadata": {},
   "outputs": [
    {
     "name": "stdout",
     "output_type": "stream",
     "text": [
      "5\n",
      "1 element: 1\n",
      "2 element: 2\n",
      "3 element: 3\n",
      "4 element: 4\n",
      "5 element: 0\n",
      "[1 2 3 4 0]\n",
      "CPU times: total: 15.6 ms\n",
      "Wall time: 5 s\n"
     ]
    },
    {
     "data": {
      "text/plain": [
       "array([-1, -1, -1, -1,  0])"
      ]
     },
     "execution_count": 5,
     "metadata": {},
     "output_type": "execute_result"
    }
   ],
   "source": [
    "%%time\n",
    "n = int(input())\n",
    "task_6_2 = np.arange(n, dtype = int)\n",
    "\n",
    "for i in range(n):\n",
    "    task_6_2[i] = int(input(f\"{i+1} element: \"))\n",
    "print(task_6_2)\n",
    "task_6_2[task_6_2 != 0] = -1\n",
    "task_6_2"
   ]
  },
  {
   "cell_type": "markdown",
   "id": "227f6bde",
   "metadata": {},
   "source": [
    "# Вправа 7. З клавіатури вводиться масив. Замінити всі нульові елементи на -1."
   ]
  },
  {
   "cell_type": "code",
   "execution_count": 6,
   "id": "2c6e1598",
   "metadata": {},
   "outputs": [
    {
     "name": "stdout",
     "output_type": "stream",
     "text": [
      "4\n",
      "1 element: 1\n",
      "2 element: 2\n",
      "3 element: 0\n",
      "4 element: 0\n",
      "[1, 2, 0, 0]\n",
      "CPU times: total: 15.6 ms\n",
      "Wall time: 4.16 s\n"
     ]
    },
    {
     "data": {
      "text/plain": [
       "[1, 2, -1, -1]"
      ]
     },
     "execution_count": 6,
     "metadata": {},
     "output_type": "execute_result"
    }
   ],
   "source": [
    "%%time\n",
    "n = int(input())\n",
    "task_7 = []\n",
    "\n",
    "for i in range(n):\n",
    "    element = int(input(f\"{i+1} element: \"))\n",
    "    task_7.append(element)\n",
    "print(task_7)\n",
    "\n",
    "for i in range(n):\n",
    "    if task_7[i] == 0:\n",
    "        task_7[i] = -1\n",
    "task_7"
   ]
  },
  {
   "cell_type": "code",
   "execution_count": 7,
   "id": "9476c7b9",
   "metadata": {},
   "outputs": [
    {
     "name": "stdout",
     "output_type": "stream",
     "text": [
      "4\n",
      "1 element: 1\n",
      "2 element: 2\n",
      "3 element: 0\n",
      "4 element: 0\n",
      "[1 2 0 0]\n",
      "CPU times: total: 0 ns\n",
      "Wall time: 2.97 s\n"
     ]
    },
    {
     "data": {
      "text/plain": [
       "array([ 1,  2, -1, -1])"
      ]
     },
     "execution_count": 7,
     "metadata": {},
     "output_type": "execute_result"
    }
   ],
   "source": [
    "%%time\n",
    "n = int(input())\n",
    "task_7_2 = np.arange(n, dtype = int)\n",
    "\n",
    "for i in range(n):\n",
    "    task_7_2[i] = int(input(f\"{i+1} element: \"))\n",
    "print(task_7_2)\n",
    "task_7_2[task_7_2 == 0] = -1\n",
    "task_7_2"
   ]
  },
  {
   "cell_type": "markdown",
   "id": "9f9e7c73",
   "metadata": {},
   "source": [
    "# Вправа 9. Вводиться число n. Створити масив значень від n до 0."
   ]
  },
  {
   "cell_type": "code",
   "execution_count": 8,
   "id": "40ac2218",
   "metadata": {},
   "outputs": [
    {
     "name": "stdout",
     "output_type": "stream",
     "text": [
      "5\n",
      "CPU times: total: 0 ns\n",
      "Wall time: 1.08 s\n"
     ]
    },
    {
     "data": {
      "text/plain": [
       "[5, 4, 3, 2, 1, 0]"
      ]
     },
     "execution_count": 8,
     "metadata": {},
     "output_type": "execute_result"
    }
   ],
   "source": [
    "%%time\n",
    "n = int(input())\n",
    "task_9 = list(range(n,-1,-1))\n",
    "task_9"
   ]
  },
  {
   "cell_type": "code",
   "execution_count": 9,
   "id": "3f098d4a",
   "metadata": {},
   "outputs": [
    {
     "name": "stdout",
     "output_type": "stream",
     "text": [
      "5\n",
      "CPU times: total: 0 ns\n",
      "Wall time: 861 ms\n"
     ]
    },
    {
     "data": {
      "text/plain": [
       "array([5, 4, 3, 2, 1, 0])"
      ]
     },
     "execution_count": 9,
     "metadata": {},
     "output_type": "execute_result"
    }
   ],
   "source": [
    "%%time\n",
    "n = int(input())\n",
    "task_9_2 = np.arange(n+1, dtype=int)\n",
    "for i in range(n+1):\n",
    "   task_9_2[i] = n-i\n",
    "task_9_2"
   ]
  },
  {
   "cell_type": "markdown",
   "id": "03bf3bd8",
   "metadata": {},
   "source": [
    "# Вправа 10. Вводиться числа n i m. Створити масив випадкових значень n на m і обчислити мінімальне, максимальне значення, середнє та середньо квадратичне відхилення, округлене до 3 знаків після коми"
   ]
  },
  {
   "cell_type": "code",
   "execution_count": 10,
   "id": "d5f8f850",
   "metadata": {},
   "outputs": [
    {
     "name": "stdout",
     "output_type": "stream",
     "text": [
      "n: 5\n",
      "m: 6\n",
      "[[65, 74, 87, 76, 28, 17], [55, 74, 12, 77, 24, 4], [6, 83, 91, 41, 91, 27], [44, 72, 76, 9, 18, 45], [9, 99, 73, 59, 68, 38]]\n",
      "minimum value: 4\n",
      "maximum value: 99\n",
      "mean value: 51.4\n",
      "standard deviation: 29.444\n",
      "CPU times: total: 15.6 ms\n",
      "Wall time: 1.63 s\n"
     ]
    }
   ],
   "source": [
    "%%time\n",
    "import random\n",
    "\n",
    "n = int(input(\"n: \"))\n",
    "m = int(input(\"m: \"))\n",
    "\n",
    "task_10 = [[random.randint(0,100) for j in range(m)] for i in range(n)]\n",
    "\n",
    "min_val = task_10[0][0]\n",
    "max_val = task_10[0][0]\n",
    "sum_val = 0\n",
    "sum_sq_val = 0\n",
    "\n",
    "for i in range(n):\n",
    "    for j in range(m):\n",
    "        if task_10[i][j] < min_val:\n",
    "            min_val = task_10[i][j]\n",
    "        if task_10[i][j] > max_val:\n",
    "            max_val = task_10[i][j]\n",
    "        sum_val += task_10[i][j]\n",
    "        sum_sq_val += task_10[i][j] ** 2\n",
    "\n",
    "mean_val = sum_val / (n * m)\n",
    "std_val = ((sum_sq_val / (n * m)) - (mean_val ** 2)) ** 0.5\n",
    "\n",
    "print(task_10)\n",
    "\n",
    "print(\"minimum value:\", min_val)\n",
    "print(\"maximum value:\", max_val)\n",
    "print(\"mean value:\", round(mean_val, 3))\n",
    "print(\"standard deviation:\", round(std_val, 3))"
   ]
  },
  {
   "cell_type": "code",
   "execution_count": 11,
   "id": "434efd05",
   "metadata": {},
   "outputs": [
    {
     "name": "stdout",
     "output_type": "stream",
     "text": [
      "n: 5\n",
      "m: 6\n",
      "[[ 1 29 46  5 85 23]\n",
      " [78 27 32 87 63 54]\n",
      " [71 74 38 43 51 56]\n",
      " [18 49 93 15 97 68]\n",
      " [48 11 37 38 19 19]]\n",
      "Minimum value: 1\n",
      "Maximum value: 97\n",
      "Mean value: 45.833\n",
      "Standard deviation: 26.549\n",
      "CPU times: total: 15.6 ms\n",
      "Wall time: 1.22 s\n"
     ]
    }
   ],
   "source": [
    "%%time\n",
    "n = int(input(\"n: \"))\n",
    "m = int(input(\"m: \"))\n",
    "\n",
    "task_10_2 = np.random.randint(low=0, high=101, size=(n, m))\n",
    "min_val = task_10_2.min()\n",
    "max_val = task_10_2.max()\n",
    "mean_val = task_10_2.mean()\n",
    "std_val = task_10_2.std()\n",
    "\n",
    "print(task_10_2)\n",
    "\n",
    "print(\"Minimum value:\", min_val)\n",
    "print(\"Maximum value:\", max_val)\n",
    "print(\"Mean value:\", round(mean_val, 3))\n",
    "print(\"Standard deviation:\", round(std_val, 3))"
   ]
  },
  {
   "cell_type": "markdown",
   "id": "0417a085",
   "metadata": {},
   "source": [
    "# Вправа 11. Створити масив одиниць розміром n х n та додати до нього «рамку», сформовану з 0."
   ]
  },
  {
   "cell_type": "code",
   "execution_count": 12,
   "id": "ee4bbb9c",
   "metadata": {},
   "outputs": [
    {
     "name": "stdout",
     "output_type": "stream",
     "text": [
      "4\n",
      "[0, 0, 0, 0, 0, 0]\n",
      "[0, 1, 1, 1, 1, 0]\n",
      "[0, 1, 1, 1, 1, 0]\n",
      "[0, 1, 1, 1, 1, 0]\n",
      "[0, 1, 1, 1, 1, 0]\n",
      "[0, 0, 0, 0, 0, 0]\n",
      "CPU times: total: 0 ns\n",
      "Wall time: 833 ms\n"
     ]
    }
   ],
   "source": [
    "%%time\n",
    "n = int(input())\n",
    "task_11 = [[1] * n for i in range(n)]\n",
    "task_11 = [[0] * (n+2)] + [[0] + row + [0] for row in task_11] + [[0] * (n+2)]\n",
    "for row in task_11:\n",
    "    print(row)"
   ]
  },
  {
   "cell_type": "code",
   "execution_count": 13,
   "id": "a12c3171",
   "metadata": {},
   "outputs": [
    {
     "name": "stdout",
     "output_type": "stream",
     "text": [
      "4\n",
      "[[0 0 0 0 0 0]\n",
      " [0 1 1 1 1 0]\n",
      " [0 1 1 1 1 0]\n",
      " [0 1 1 1 1 0]\n",
      " [0 1 1 1 1 0]\n",
      " [0 0 0 0 0 0]]\n",
      "CPU times: total: 31.2 ms\n",
      "Wall time: 621 ms\n"
     ]
    }
   ],
   "source": [
    "%%time\n",
    "n = int(input())\n",
    "task_11 = np.ones((n, n), dtype=int)\n",
    "task_11 = np.pad(task_11, ((1, 1), (1, 1)), mode='constant', constant_values=0)\n",
    "print(task_11)"
   ]
  },
  {
   "cell_type": "markdown",
   "id": "33496d5d",
   "metadata": {},
   "source": [
    "# Вправа 15. Заповнити парні стовбчики матриці розміром n х n одиницями, а непарні – нулями."
   ]
  },
  {
   "cell_type": "code",
   "execution_count": 14,
   "id": "ba6decad",
   "metadata": {},
   "outputs": [
    {
     "name": "stdout",
     "output_type": "stream",
     "text": [
      "n: 5\n",
      "[0, 1, 0, 1, 0]\n",
      "[0, 1, 0, 1, 0]\n",
      "[0, 1, 0, 1, 0]\n",
      "[0, 1, 0, 1, 0]\n",
      "[0, 1, 0, 1, 0]\n",
      "CPU times: total: 0 ns\n",
      "Wall time: 1.73 s\n"
     ]
    }
   ],
   "source": [
    "%%time\n",
    "\n",
    "n = int(input(\"n: \"))\n",
    "\n",
    "task_15 = [[1] * n for i in range(n)]\n",
    "for i in range(n):\n",
    "    for j in range(n):\n",
    "        if j%2==0:\n",
    "            task_15[i][j] = 0\n",
    "for row in task_15:\n",
    "    print(row)"
   ]
  },
  {
   "cell_type": "code",
   "execution_count": 15,
   "id": "82d0a726",
   "metadata": {},
   "outputs": [
    {
     "name": "stdout",
     "output_type": "stream",
     "text": [
      "n: 5\n",
      "CPU times: total: 0 ns\n",
      "Wall time: 1.77 s\n"
     ]
    },
    {
     "data": {
      "text/plain": [
       "array([[0, 1, 0, 1, 0],\n",
       "       [0, 1, 0, 1, 0],\n",
       "       [0, 1, 0, 1, 0],\n",
       "       [0, 1, 0, 1, 0],\n",
       "       [0, 1, 0, 1, 0]])"
      ]
     },
     "execution_count": 15,
     "metadata": {},
     "output_type": "execute_result"
    }
   ],
   "source": [
    "%%time\n",
    "n = int(input(\"n: \"))\n",
    "task_15_2 = np.zeros((n,n), dtype = int)\n",
    "\n",
    "for i in range(n):\n",
    "    for j in range(n):\n",
    "        if j%2 != 0:\n",
    "            task_15_2[i][j] = 1\n",
    "task_15_2"
   ]
  },
  {
   "cell_type": "markdown",
   "id": "a4a96995",
   "metadata": {},
   "source": [
    "# Вправа 17. Заповнити вектор значеннями від 0 до n. Замінити знаки для всіх значеннь, що менші за n/2 та більші за 3n/4 на протилежні"
   ]
  },
  {
   "cell_type": "code",
   "execution_count": 16,
   "id": "07492be3",
   "metadata": {},
   "outputs": [
    {
     "name": "stdout",
     "output_type": "stream",
     "text": [
      "5\n",
      "1 element: 1\n",
      "2 element: 2\n",
      "3 element: 3\n",
      "4 element: 4\n",
      "5 element: 5\n",
      "[1, 2, 3, 4, 5]\n",
      "CPU times: total: 0 ns\n",
      "Wall time: 4.15 s\n"
     ]
    },
    {
     "data": {
      "text/plain": [
       "[-1, -2, 3, -4, -5]"
      ]
     },
     "execution_count": 16,
     "metadata": {},
     "output_type": "execute_result"
    }
   ],
   "source": [
    "%%time\n",
    "n = int(input())\n",
    "task_17 = []\n",
    "\n",
    "for i in range(n):\n",
    "    element = int(input(f\"{i+1} element: \"))\n",
    "    task_17.append(element)\n",
    "print(task_17)\n",
    "\n",
    "for i in range(n):\n",
    "    if (task_17[i] < n/2) or (task_17[i] > 3*n/4):\n",
    "        task_17[i] = -task_17[i]\n",
    "task_17"
   ]
  },
  {
   "cell_type": "code",
   "execution_count": 17,
   "id": "1157dc93",
   "metadata": {},
   "outputs": [
    {
     "name": "stdout",
     "output_type": "stream",
     "text": [
      "5\n",
      "1 element: 1\n",
      "2 element: 2\n",
      "3 element: 3\n",
      "4 element: 4\n",
      "5 element: 5\n",
      "[1 2 3 4 5]\n",
      "CPU times: total: 46.9 ms\n",
      "Wall time: 3.88 s\n"
     ]
    },
    {
     "data": {
      "text/plain": [
       "array([-1, -2,  3, -4, -5])"
      ]
     },
     "execution_count": 17,
     "metadata": {},
     "output_type": "execute_result"
    }
   ],
   "source": [
    "%%time\n",
    "n = int(input())\n",
    "task_17_2 = np.arange(n, dtype = int)\n",
    "\n",
    "for i in range(n):\n",
    "    task_17_2[i] = int(input(f\"{i+1} element: \"))\n",
    "print(task_17_2)\n",
    "\n",
    "task_17_2[(task_17_2 < n/2) | (task_17_2 > 3*n/4)] *= -1\n",
    "task_17_2"
   ]
  },
  {
   "cell_type": "markdown",
   "id": "ab15937f",
   "metadata": {},
   "source": [
    "# Вправа 18. Згенерувати вектор з n випадкових чисел в діапазоні від 0 до 99. Визначити кількість унікальних чисел в послідовності."
   ]
  },
  {
   "cell_type": "code",
   "execution_count": 18,
   "id": "0f93cea0",
   "metadata": {},
   "outputs": [
    {
     "name": "stdout",
     "output_type": "stream",
     "text": [
      "n: 30\n",
      "[71, 75, 65, 89, 79, 69, 13, 39, 5, 65, 17, 23, 26, 58, 24, 20, 22, 56, 10, 74, 47, 48, 67, 67, 44, 53, 13, 3, 54, 30]\n",
      "CPU times: total: 15.6 ms\n",
      "Wall time: 1.09 s\n"
     ]
    },
    {
     "data": {
      "text/plain": [
       "24"
      ]
     },
     "execution_count": 18,
     "metadata": {},
     "output_type": "execute_result"
    }
   ],
   "source": [
    "%%time\n",
    "\n",
    "n = int(input(\"n: \"))\n",
    "task_18 = [random.randint(0,99) for j in range(n)]\n",
    "print(task_18)\n",
    "\n",
    "sum_count = 0\n",
    "for i in range(n):\n",
    "    com_count = 0\n",
    "    for j in range(n):\n",
    "        if task_18[i] == task_18[j]:\n",
    "            com_count += 1\n",
    "    if com_count == 1:\n",
    "        sum_count += 1\n",
    "sum_count"
   ]
  },
  {
   "cell_type": "code",
   "execution_count": 19,
   "id": "452f4d36",
   "metadata": {},
   "outputs": [
    {
     "name": "stdout",
     "output_type": "stream",
     "text": [
      "n: 30\n",
      "[29 45 58  8 20 68 57 54  0 22 39 90 73 39 31 13 43 68 56 23 90 96 62  4\n",
      " 75 64 46  7 64 36]\n",
      "Number of unique elements: 26\n",
      "CPU times: total: 0 ns\n",
      "Wall time: 3.07 s\n"
     ]
    }
   ],
   "source": [
    "%%time\n",
    "n = int(input(\"n: \"))\n",
    "task_18_2 = np.random.randint(0, 100, n)\n",
    "print(task_18_2)\n",
    "unique, count = np.unique(task_18_2, return_counts=True)\n",
    "print(\"Number of unique elements:\", len(unique))"
   ]
  },
  {
   "cell_type": "markdown",
   "id": "7e2a3632",
   "metadata": {},
   "source": [
    "$$\n",
    "2) \\begin{cases}\n",
    "x_1 + x_2 + 2x_3 + 3x_4 = 1 \\\\\n",
    "3x_1 - x_2 - x_3 - 2x_4 = -4 \\\\\n",
    "2x_1 - 3x_2 - x_3 - x_4 = -6 \\\\\n",
    "x_1 + 2x_2 + 3x_3 - x_4 = -4\n",
    "\\end{cases}\n",
    "$$"
   ]
  },
  {
   "cell_type": "code",
   "execution_count": 20,
   "id": "3b139705",
   "metadata": {},
   "outputs": [
    {
     "name": "stdout",
     "output_type": "stream",
     "text": [
      "True\n",
      "True\n",
      "True\n"
     ]
    }
   ],
   "source": [
    "import numpy as np\n",
    "\n",
    "A = np.array([[1, 1, 2, 3], [3, -1, -1, -2], [2, -3, -1, -1], [1, 2, 3, -1]])\n",
    "b = np.array([1, -4, -6, -4])\n",
    "\n",
    "detA = np.linalg.det(A)\n",
    "\n",
    "det1 = np.linalg.det(np.column_stack((b, A[:, 1:],)))\n",
    "det2 = np.linalg.det(np.column_stack((A[:, 0], b, A[:, 2:],)))\n",
    "det3 = np.linalg.det(np.column_stack((A[:, :2], b, A[:, 3:],)))\n",
    "det4 = np.linalg.det(np.column_stack((A[:, :3], b)))\n",
    "\n",
    "x1 = det1 / detA\n",
    "x2 = det2 / detA\n",
    "x3 = det3 / detA\n",
    "x4 = det4 / detA\n",
    "\n",
    "x = np.array([x1, x2, x3, x4])\n",
    "\n",
    "\n",
    "res1 = np.dot(A, x)\n",
    "print(np.allclose(res1, b))\n",
    "\n",
    "\n",
    "A_inv = np.linalg.inv(A)\n",
    "res2 = np.dot(A_inv, b)\n",
    "print(np.allclose(res2, x))\n",
    "\n",
    "\n",
    "res3 = np.linalg.solve(A, b)\n",
    "print(np.allclose(res3, x))"
   ]
  },
  {
   "cell_type": "markdown",
   "id": "a96ece19",
   "metadata": {},
   "source": [
    "$$ 3) 2(A+B)(2B-A), де \\quad A = \\begin{pmatrix} 2 & 3 & -1 \\\\ 4 & 5 & 2 \\\\ -1 & 0 & 7 \\end{pmatrix}, \\quad B = \\begin{pmatrix} -1 & 0 & 5 \\\\ 0 & 1 & 3 \\\\ 2 & -2 & 4 \\end{pmatrix}$$"
   ]
  },
  {
   "cell_type": "code",
   "execution_count": 21,
   "id": "bdfc01e1",
   "metadata": {},
   "outputs": [
    {
     "name": "stdout",
     "output_type": "stream",
     "text": [
      "[[   8  -56   54]\n",
      " [ -30 -100  146]\n",
      " [ 118  -82   28]]\n",
      "CPU times: total: 0 ns\n",
      "Wall time: 999 µs\n"
     ]
    }
   ],
   "source": [
    "%%time\n",
    "\n",
    "A = np.array([[2, 3, -1], [4, 5, 2], [-1, 0, 7]])\n",
    "B = np.array([[-1, 0, 5], [0, 1, 3], [2, -2, 4]])\n",
    "\n",
    "result = 2 * np.dot(A+B, 2*B-A)\n",
    "print(result)"
   ]
  },
  {
   "cell_type": "code",
   "execution_count": 22,
   "id": "3acdc737",
   "metadata": {},
   "outputs": [
    {
     "name": "stdout",
     "output_type": "stream",
     "text": [
      "[[8, -56, 54], [-30, -100, 146], [118, -82, 28]]\n",
      "CPU times: total: 0 ns\n",
      "Wall time: 0 ns\n"
     ]
    }
   ],
   "source": [
    "%%time\n",
    "A = [[2, 3, -1], [4, 5, 2], [-1, 0, 7]]\n",
    "B = [[-1, 0, 5], [0, 1, 3], [2, -2, 4]]\n",
    "\n",
    "result = []\n",
    "for i in range(3):\n",
    "    row = []\n",
    "    for j in range(3):\n",
    "        s = 0\n",
    "        for k in range(3):\n",
    "            s += (A[i][k] + B[i][k]) * (2*B[k][j] - A[k][j])\n",
    "        row.append(s * 2)\n",
    "    result.append(row)\n",
    "\n",
    "print(result)"
   ]
  },
  {
   "cell_type": "markdown",
   "id": "be17be1e",
   "metadata": {},
   "source": [
    "Висновок: в ході виконання цієї лабораторної роботи було визначено, що при правильному використанні бібліотеки Numpy виконання коду може суттєво прискоритись.\n",
    "\n",
    "Посилання на GitHub: https://github.com/ksks48/Python-labs.git"
   ]
  }
 ],
 "metadata": {
  "kernelspec": {
   "display_name": "Python 3 (ipykernel)",
   "language": "python",
   "name": "python3"
  },
  "language_info": {
   "codemirror_mode": {
    "name": "ipython",
    "version": 3
   },
   "file_extension": ".py",
   "mimetype": "text/x-python",
   "name": "python",
   "nbconvert_exporter": "python",
   "pygments_lexer": "ipython3",
   "version": "3.11.2"
  }
 },
 "nbformat": 4,
 "nbformat_minor": 5
}

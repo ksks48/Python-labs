{
 "cells": [
  {
   "cell_type": "code",
   "execution_count": 1,
   "id": "e42d2869",
   "metadata": {},
   "outputs": [
    {
     "data": {
      "text/plain": [
       "6"
      ]
     },
     "execution_count": 1,
     "metadata": {},
     "output_type": "execute_result"
    }
   ],
   "source": [
    "N = ord('K') % 10 + 1\n",
    "N"
   ]
  },
  {
   "cell_type": "markdown",
   "id": "8059dc69",
   "metadata": {},
   "source": [
    "# Йорданія\n",
    "\n",
    "|  Площа   |Населення|   Державний устрій   |\n",
    "|----------|---------|----------------------|\n",
    "|89 342 км²|6,500,000|Конституційна монархія|\n",
    "\n",
    "**Видатні персоналії:**  \n",
    "\n",
    "* Абдулла II - нинішній король Йорданії, який володіє широким спектром знань та навичок, включаючи військову службу та політику.\n",
    "\n",
    "* Квин Ранія - королева Йорданії та активна прихильниця жіночих прав та освіти.\n",
    "\n",
    "* Тарек Масуд - відомий йорданський дизайнер, що працює у сфері меблевого та внутрішнього дизайну.\n",
    "\n",
    "* Раїмонд Едд - американський бізнесмен індійського походження, засновник компанії \"Jawbone\" та один з інвесторів у \"Twitter\".\n",
    "\n",
    "* Раїф Бадаві - ісламський дослідник та історик, який був відомий своїми дослідженнями ісламської історії та культури.\n",
    "\n",
    "* Зара Насрін - йорданська письменниця та активістка, яка пише про права жінок, демократію та інші соціальні питання.\n",
    "\n",
    "* Мухаммед Фарід Зейдан - директор Центру дослідження Йорданії, відомий своїми дослідженнями з історії йорданської культури та археології.\n",
    "\n",
    "* Аман Насіф - один з провідних музикантів Йорданії та відомий співак, який співає в жанрах, таких як фольк та джаз.\n",
    "\n",
    "* Карім Хімматі - йорданський футболіст, який виступає в \"Іттіхаді\" та є капітаном збірної команди Йорданії.\n",
    "\n",
    "<fieldset style=\"border: 2px solid green; padding: 10px;\">\n",
    "  <legend style=\"color: blue; font-style: italic;\">Пам'ятки культури та природи</legend>\n",
    "  <ul>\n",
    "    <li>Петра</li>\n",
    "    <li>Крепость Карак</li>\n",
    "    <li>Римське місто Джераш</li>\n",
    "    <li>Ярджа</li>\n",
    "    <li>Цитадель Аммана</li>\n",
    "    <li>Мертве море</li>\n",
    "    <li>Музей Йорданської долини</li>\n",
    "    <li>Храм Артеміди в Герасі</li>\n",
    "  </ul>\n",
    "</fieldset>\n",
    "\n",
    "![просто гарне місце](https://tripmydream.cc/travelhub/travel/block_gallery/10/7402/gallery_big_107402.jpg)\n",
    "![Мертве море в Йорданії](pic.jpg)\n",
    "\n",
    "[Більше інформації про Йорданію](https://uk.wikipedia.org/wiki/%D0%99%D0%BE%D1%80%D0%B4%D0%B0%D0%BD%D1%96%D1%8F)\n"
   ]
  },
  {
   "cell_type": "code",
   "execution_count": 2,
   "id": "dcb3cad7",
   "metadata": {},
   "outputs": [],
   "source": [
    "def task(a, b):\n",
    "    try:\n",
    "        list = []\n",
    "        for i in range(a, b+1):\n",
    "        \n",
    "            if i % 2 == 1 and i % 3 != 0 or i == 2:\n",
    "                list.extend([i])\n",
    "        print(list)\n",
    "    except TypeError:\n",
    "        print(\"Помилка. У списку присутнє нечислове значення\")"
   ]
  },
  {
   "cell_type": "code",
   "execution_count": 7,
   "id": "f35b95fe",
   "metadata": {},
   "outputs": [
    {
     "name": "stdout",
     "output_type": "stream",
     "text": [
      "[1, 2, 5, 7, 11, 13]\n"
     ]
    }
   ],
   "source": [
    "task(0,15)"
   ]
  },
  {
   "cell_type": "code",
   "execution_count": 4,
   "id": "10c54d68",
   "metadata": {},
   "outputs": [
    {
     "name": "stdout",
     "output_type": "stream",
     "text": [
      "[7, 11, 13, 17, 19, 23]\n"
     ]
    }
   ],
   "source": [
    "task(6,24)"
   ]
  },
  {
   "cell_type": "code",
   "execution_count": 5,
   "id": "4d0dd646",
   "metadata": {},
   "outputs": [
    {
     "name": "stdout",
     "output_type": "stream",
     "text": [
      "Помилка. У списку присутнє нечислове значення\n"
     ]
    }
   ],
   "source": [
    "task('str',15)"
   ]
  },
  {
   "cell_type": "code",
   "execution_count": 6,
   "id": "759a7aad",
   "metadata": {},
   "outputs": [
    {
     "data": {
      "text/html": [
       "<svg width=\"200\" height=\"150\" xmlns=\"http://www.w3.org/2000/svg\">\n",
       "  <rect x=\"0\" y=\"0\" width=\"200\" height=\"50\" fill=\"black\"/>\n",
       "  <rect x=\"0\" y=\"50\" width=\"200\" height=\"50\" fill=\"white\"/>\n",
       "  <rect x=\"0\" y=\"100\" width=\"200\" height=\"50\" fill=\"#138808\"/>\n",
       "  <polygon points=\"0,0 0,150 100,75\" fill=\"red\"/>\n",
       "  <polygon points=\"60,65 62.14,69.41 67,68 64.52,72.99 68.5,76.5 64.12,77.58 64,82 60.03,78.65 56,82 55.73,77.58 51.5,76.5 55.47,72.60 53,68 57.91,69.41\" style=\"fill: white;\" />\n",
       "</svg>\n"
      ],
      "text/plain": [
       "<IPython.core.display.HTML object>"
      ]
     },
     "metadata": {},
     "output_type": "display_data"
    }
   ],
   "source": [
    "%%HTML\n",
    "<svg width=\"200\" height=\"150\" xmlns=\"http://www.w3.org/2000/svg\">\n",
    "  <rect x=\"0\" y=\"0\" width=\"200\" height=\"50\" fill=\"black\"/>\n",
    "  <rect x=\"0\" y=\"50\" width=\"200\" height=\"50\" fill=\"white\"/>\n",
    "  <rect x=\"0\" y=\"100\" width=\"200\" height=\"50\" fill=\"#138808\"/>\n",
    "  <polygon points=\"0,0 0,150 100,75\" fill=\"red\"/>\n",
    "  <polygon points=\"60,65 62.14,69.41 67,68 64.52,72.99 68.5,76.5 64.12,77.58 64,82 60.03,78.65 56,82 55.73,77.58 51.5,76.5 55.47,72.60 53,68 57.91,69.41\" style=\"fill: white;\" />\n",
    "</svg>"
   ]
  },
  {
   "cell_type": "code",
   "execution_count": null,
   "id": "bece9644",
   "metadata": {},
   "outputs": [],
   "source": []
  }
 ],
 "metadata": {
  "kernelspec": {
   "display_name": "Python 3 (ipykernel)",
   "language": "python",
   "name": "python3"
  },
  "language_info": {
   "codemirror_mode": {
    "name": "ipython",
    "version": 3
   },
   "file_extension": ".py",
   "mimetype": "text/x-python",
   "name": "python",
   "nbconvert_exporter": "python",
   "pygments_lexer": "ipython3",
   "version": "3.11.2"
  }
 },
 "nbformat": 4,
 "nbformat_minor": 5
}
